{
 "cells": [
  {
   "cell_type": "markdown",
   "metadata": {},
   "source": [
    "### Just some initial code..."
   ]
  },
  {
   "cell_type": "code",
   "execution_count": 64,
   "metadata": {
    "collapsed": true
   },
   "outputs": [],
   "source": [
    "import pandas as pd\n",
    "import numpy as np\n",
    "from matplotlib import pyplot as plt\n",
    "import math\n",
    "\n",
    "# --------Top of def main():--------\n",
    "# ----Create initial data frames----\n",
    "hr_df = pd.read_csv('HR_comma_sep.csv')\n",
    "hr_df.rename(\n",
    "    columns={\n",
    "        'sales': 'department',\n",
    "        'average_montly_hours': 'average_monthly_hours',\n",
    "        'Work_accident': 'work_accident'},\n",
    "    inplace=True)\n",
    "# print(hr_df.groupby('department').count().index)\n",
    "department_conversion = {\n",
    "    'IT': 0, 'RandD': 1, 'accounting': 2, 'hr': 3,\n",
    "    'management': 4, 'marketing': 5, 'product_mng': 6,\n",
    "    'sales': 7, 'support': 8, 'technical': 9}\n",
    "hr_df['department_number'] = hr_df['department'].apply(lambda x: department_conversion[x])\n",
    "salary_conversion = {'low': 0, 'medium': 1, 'high': 2}\n",
    "hr_df['salary_number'] = hr_df['salary'].apply(lambda x: salary_conversion[x])\n",
    "left_df = hr_df[hr_df['left']==1]\n",
    "    \n",
    "\n",
    "# ----Re-used Helper Functions----\n",
    "def histogram_set(df, x_cols, y_sum_col, show=True):\n",
    "    \"\"\"Return None\n",
    "    \n",
    "    This function plots a matrix of histogram with a histogram chart for each\n",
    "    column in x_cols, where each bar chart has bins for values in x_cols and\n",
    "    bars with height equal to the number of elements in that bin.\n",
    "    \"\"\"\n",
    "    width = min([len(x_cols), 3])\n",
    "    height = math.ceil(len(x_cols) / 3)\n",
    "    \n",
    "    plt.figure(figsize=(13, 7))\n",
    "    \n",
    "    for i, x in enumerate(x_cols):\n",
    "        if x:  # We can put place markers so that we can add data later\n",
    "            plt.subplot(height, width, i+1)\n",
    "            #sum_df = pd.DataFrame(df.groupby(x).sum()[y_sum_col])\n",
    "            #plt.bar(list(sum_df.index), list(sum_df[y_sum_col]))\n",
    "            plt.hist(df[x])\n",
    "            plt.title('Total {} by {}'.format(y_sum_col, x))\n",
    "            plt.xlabel(x)\n",
    "            plt.ylabel('Total of {}'.format(y_sum_col))\n",
    "    plt.tight_layout()\n",
    "    \n",
    "    if show:\n",
    "        plt.show()\n",
    "    \n",
    "    \n",
    "def plot_set_vs_set(df, x_cols, y_cols, legend_label=None, marker_size=2.0):\n",
    "    \"\"\"Return None\n",
    "    \n",
    "    This function plots a matrix of scatter plots with all combinations of\n",
    "        the columns of df listed in x_cols, on the x-axis\n",
    "    versus\n",
    "        the columns of df listed in y_cols, on the y-axis\n",
    "    There will be a row of scatter plots for each column listed in y_cols\n",
    "    There will be a column of scatter plots for each column listed in x_cols\n",
    "    \"\"\"\n",
    "    width = len(x_cols)\n",
    "    height = len(y_cols)\n",
    "    \n",
    "    plt.figure(figsize=(13, 7))\n",
    "    \n",
    "    for i, y in enumerate(y_cols):\n",
    "        for j, x in enumerate(x_cols):\n",
    "            if x != y:\n",
    "                plt.subplot(height, width, (i*width)+(j+1))\n",
    "                plt.plot(\n",
    "                    df[x], df[y], '*', markersize=marker_size,\n",
    "                    label=legend_label, alpha=0.2)\n",
    "                plt.title('{}\\nvs. {}'.format(x, y))\n",
    "                plt.xlabel(x)\n",
    "                plt.ylabel(y)\n",
    "                if legend_label and i==0 and j==0:\n",
    "                    plt.legend(bbox_to_anchor=(0.13, -0.12))\n",
    "    plt.tight_layout()\n",
    "    plt.show()\n",
    "    \n",
    "\n",
    "# ----One Time Helper Functions----\n",
    "def data_vis1(hr_df, left_df):\n",
    "    labels = ('Left', 'Staying')\n",
    "    count_left = len(left_df)\n",
    "    count_stay = len(hr_df) - count_left\n",
    "    sizes = [count_left, count_stay]\n",
    "    colors = ['gold', 'yellowgreen']\n",
    "    explode = (0.1, 0)  # explode 1st slice\n",
    "     \n",
    "    plt.figure(figsize=(13, 7))\n",
    "    plt.subplot(1, 2, 1)\n",
    "    plt.pie(sizes, explode=explode, labels=labels, colors=colors,\n",
    "            autopct='%1.1f%%', shadow=True, startangle=90)\n",
    "    plt.title('Percent of Employees That Left')\n",
    "    \n",
    "    # Distribution leavers' time spent at company\n",
    "    plt.subplot(1, 2, 2)\n",
    "    plt.hist(left_df['time_spend_company'])\n",
    "    time_average = np.mean(left_df['time_spend_company'])\n",
    "    plt.axvline(x=time_average, label='Average', color='red')\n",
    "    plt.title('Distribution of Years Spent\\n At Company Before Leaving')\n",
    "    plt.xlabel('Years Spent At Company')\n",
    "    plt.ylabel('Total That Left')\n",
    "    plt.legend()\n",
    "    plt.tight_layout()\n",
    "    plt.show()\n",
    "    \n",
    "    \n",
    "def data_vis2(hr_df, left_df):\n",
    "    histogram_set(\n",
    "        left_df,\n",
    "        ['satisfaction_level', 'last_evaluation', 'promotion_last_5years', 'salary_number'],\n",
    "        'left', show=False)\n",
    "    \n",
    "    # Set labels afterwards\n",
    "    plt.subplot(1, 3, 2)\n",
    "    plt.xticks(range(2), ('No', 'Yes'))\n",
    "    plt.xlabel('Promotion in the Last 5 Years')\n",
    "    \n",
    "    plt.subplot(1, 3, 3)\n",
    "    plt.xticks(range(3), ('Low', 'Medium', 'High'))\n",
    "    plt.xlabel('Salary')\n",
    "    plt.show()\n",
    "    \n",
    "    # Get promotion distribution for all employees (not just leavers)\n",
    "    plt.figure(figsize=(13, 7))\n",
    "    plt.subplot(1, 3, 2)\n",
    "    plt.hist(hr_df['promotion_last_5years'])\n",
    "    plt.title('All Employee Promotions in Last 5 Years')\n",
    "    plt.xlabel('Promotion Given in Last 5 Years')\n",
    "    plt.ylabel('Total Employees')\n",
    "    plt.tight_layout()\n",
    "    plt.show()\n",
    "    \n",
    "\n",
    "def data_vis3(left_df):\n",
    "    x = [\n",
    "        'number_project', 'average_monthly_hours',\n",
    "        'time_spend_company', 'last_evaluation']\n",
    "    y = ['satisfaction_level', 'last_evaluation']\n",
    "    plot_set_vs_set(left_df, x, y, 'Left') "
   ]
  },
  {
   "cell_type": "markdown",
   "metadata": {},
   "source": [
    "## Assignment Specification\n",
    "#### 1) Describe your data set. Describe and explore your data set in the initial section of your Report. What does your data contain and what is its background? Where does it come from? Why is it interesting or significant? Conduct summary statistics and produce visualizations for the particular variables from the data set that you will use.\n",
    "\n",
    "#### 2) Ask and answer analytic questions. Ask three analytic questions and answer each one with a combination of statistics and visualizations. These analytic questions can focus on individuals behaviors or comparisons of the population.\n",
    "\n",
    "####     ... What variables does your data contain and what distributions do you think they have? Does the data bear on the preliminary questions you wrote down? What new questions might you answer? How does the data look when you plot it out?\n",
    "\n",
    "#### 3) Propose further research. Lastly, make a proposal for a realistic future research project on this data set that would use some data science techniques you'd like to learn in the bootcamp. Just like your earlier questions, your research proposal should present one or more clear questions. Then you should describe the techniques you would apply in order to arrive at an answer."
   ]
  },
  {
   "cell_type": "markdown",
   "metadata": {},
   "source": [
    "# Prep Course: Capstone Project\n",
    "#### Human Resources is the team responsible for acquiring and maintaining the employees at a company. A large part of this task is employee retention, preventing employees from leaving prematurely.\n",
    "\n",
    "## Why is the talent leaving?\n",
    "This data set came from Kaggle (https://www.kaggle.com/ludobenistant/hr-analytics) and is fictional and simulated. The data is meant to be analysed to find the factors affecting whether or not an employee leaves the company.<br>\n",
    "<br>\n",
    "The description connected to the data set on Kaggle hints at relevant aspects of the data to consider. In the description of the data, \"Why are our best and most experienced employees leaving prematurely? Have fun with this database and try to predict which valuable employees will leave next.\"  Two characteristics are suggested to be of interest and potentially interrelated: data determining if an employee  is likely to leave the company (primary concern) and data determining if an employee is the best and most experienced (secondary concern). There is also a minor characteristic of how to determine whether or not an employee leaving is considered premature.<br>\n",
    "<br>\n",
    "The length of time that this data was recorded over was not given, which is perhaps a valuable missing piece of information. \n",
    "\n",
    "## Know what is \"best\"\n",
    "Let us concretely define measurements for terms used, such as \"best\":<br>\n",
    "<strong>Best employees</strong>: employees with higher (say the top 25% of) scores on their last evaluation<br>\n",
    "  <i>Other considerations:</i>\n",
    "  * Promotion in last 5 years\n",
    "  * High salary<br>\n",
    "\n",
    "<strong>Experienced employees</strong>: (say the top 25%) employees that spent the longest time working at the company<br>\n",
    "  <i>Other considerations:</i>\n",
    "  * Most monthly hours\n",
    "  * Most projects<br>\n",
    "  \n",
    "<strong>Prematurely left</strong>: any employee was labeled as having left (will assume they were not labeled as such if they werer not leaving prematurely)<br>\n",
    "#### Having resolved some abiguity, let's approach our problem."
   ]
  },
  {
   "cell_type": "markdown",
   "metadata": {},
   "source": [
    "## Validate the question\n",
    "### Are many employees leaving or not?\n",
    "For the pie chart (below) on the left, with almost 25% of employees having left in this dataset, there is a significant amount of employees that left, and the relative number is not insignificant. We cannot determine the rate that employees are leaving without the timeframe of the study, but we can see that ever one of four hires leaves.<br>\n",
    "<br>\n",
    "Obviously, this piece of information is not indicative by itself, for these employees could have left all at once (very alarming) or been replacements for a single position one after another (less significant and could just be the nature of a single position).<br>\n",
    "<br>\n",
    "For the histogram on the right, can see that about half of employees with about 3 years at the company leave, with the other half with 4 or more years at the company. Very few employees with less than 3 years experience leave. With an average of almost 4 years spent at the company for employees who leave, this is a pretty high number. This would support the assertion that experienced employees are leaving the company, although the greatest concentration is not with the \"most experienced\" employees 5-6 years."
   ]
  },
  {
   "cell_type": "code",
   "execution_count": 65,
   "metadata": {
    "scrolled": false
   },
   "outputs": [
    {
     "data": {
      "image/png": "[encoded data removed]",
      "text/plain": [
       "<matplotlib.figure.Figure at 0x10ac0e4e0>"
      ]
     },
     "metadata": {},
     "output_type": "display_data"
    }
   ],
   "source": [
    "# Percentage that left vs. stayed\n",
    "data_vis1(hr_df, left_df)"
   ]
  },
  {
   "cell_type": "markdown",
   "metadata": {},
   "source": [
    "\n",
    "## Who is leaving?\n",
    "### Were the employees that left the best and most experienced ones?\n",
    "#### Are the employees leaving the best ones? If the worst employees are leaving, there may not be such a big problem.\n",
    "Based on our measure of an employee's quality by their last evaluation score, we can see that those leaving are about have low quality employees and half are the better employees. This assertion does not support the idea that evaluation scores (and thus employee quality) is distributed similar to promotions, as almost none of these employees received promotions. The distribution of promotions is the most striking, but as we plot the distribution for all other employees, we see that it is the same as those who stay at the company.\n",
    "\n",
    "This data suggests that employees that left are likely to have lower salaries and no promotions in the last 5 years, but perhaps not more likely than the average employee at the company."
   ]
  },
  {
   "cell_type": "code",
   "execution_count": 66,
   "metadata": {},
   "outputs": [
    {
     "ename": "KeyError",
     "evalue": "'satisfaction'",
     "output_type": "error",
     "traceback": [
      "\u001b[0;31m---------------------------------------------------------------------------\u001b[0m",
      "\u001b[0;31mKeyError\u001b[0m                                  Traceback (most recent call last)",
      "\u001b[0;32m/Library/Frameworks/Python.framework/Versions/3.6/lib/python3.6/site-packages/pandas/core/indexes/base.py\u001b[0m in \u001b[0;36mget_loc\u001b[0;34m(self, key, method, tolerance)\u001b[0m\n\u001b[1;32m   2441\u001b[0m             \u001b[0;32mtry\u001b[0m\u001b[0;34m:\u001b[0m\u001b[0;34m\u001b[0m\u001b[0m\n\u001b[0;32m-> 2442\u001b[0;31m                 \u001b[0;32mreturn\u001b[0m \u001b[0mself\u001b[0m\u001b[0;34m.\u001b[0m\u001b[0m_engine\u001b[0m\u001b[0;34m.\u001b[0m\u001b[0mget_loc\u001b[0m\u001b[0;34m(\u001b[0m\u001b[0mkey\u001b[0m\u001b[0;34m)\u001b[0m\u001b[0;34m\u001b[0m\u001b[0m\n\u001b[0m\u001b[1;32m   2443\u001b[0m             \u001b[0;32mexcept\u001b[0m \u001b[0mKeyError\u001b[0m\u001b[0;34m:\u001b[0m\u001b[0;34m\u001b[0m\u001b[0m\n",
      "\u001b[0;32mpandas/_libs/index.pyx\u001b[0m in \u001b[0;36mpandas._libs.index.IndexEngine.get_loc (pandas/_libs/index.c:5280)\u001b[0;34m()\u001b[0m\n",
      "\u001b[0;32mpandas/_libs/index.pyx\u001b[0m in \u001b[0;36mpandas._libs.index.IndexEngine.get_loc (pandas/_libs/index.c:5126)\u001b[0;34m()\u001b[0m\n",
      "\u001b[0;32mpandas/_libs/hashtable_class_helper.pxi\u001b[0m in \u001b[0;36mpandas._libs.hashtable.PyObjectHashTable.get_item (pandas/_libs/hashtable.c:20523)\u001b[0;34m()\u001b[0m\n",
      "\u001b[0;32mpandas/_libs/hashtable_class_helper.pxi\u001b[0m in \u001b[0;36mpandas._libs.hashtable.PyObjectHashTable.get_item (pandas/_libs/hashtable.c:20477)\u001b[0;34m()\u001b[0m\n",
      "\u001b[0;31mKeyError\u001b[0m: 'satisfaction'",
      "\nDuring handling of the above exception, another exception occurred:\n",
      "\u001b[0;31mKeyError\u001b[0m                                  Traceback (most recent call last)",
      "\u001b[0;32m<ipython-input-66-0fad05c76609>\u001b[0m in \u001b[0;36m<module>\u001b[0;34m()\u001b[0m\n\u001b[1;32m      1\u001b[0m \u001b[0;31m# Draw histograms to find leaver correlations with other factors\u001b[0m\u001b[0;34m\u001b[0m\u001b[0;34m\u001b[0m\u001b[0m\n\u001b[0;32m----> 2\u001b[0;31m \u001b[0mdata_vis2\u001b[0m\u001b[0;34m(\u001b[0m\u001b[0mhr_df\u001b[0m\u001b[0;34m,\u001b[0m \u001b[0mleft_df\u001b[0m\u001b[0;34m)\u001b[0m\u001b[0;34m\u001b[0m\u001b[0m\n\u001b[0m",
      "\u001b[0;32m<ipython-input-64-ade9487c3c18>\u001b[0m in \u001b[0;36mdata_vis2\u001b[0;34m(hr_df, left_df)\u001b[0m\n\u001b[1;32m    115\u001b[0m         \u001b[0mleft_df\u001b[0m\u001b[0;34m,\u001b[0m\u001b[0;34m\u001b[0m\u001b[0m\n\u001b[1;32m    116\u001b[0m         \u001b[0;34m[\u001b[0m\u001b[0;34m'satisfaction'\u001b[0m\u001b[0;34m,\u001b[0m \u001b[0;34m'last_evaluation'\u001b[0m\u001b[0;34m,\u001b[0m \u001b[0;34m'promotion_last_5years'\u001b[0m\u001b[0;34m,\u001b[0m \u001b[0;34m'salary_number'\u001b[0m\u001b[0;34m]\u001b[0m\u001b[0;34m,\u001b[0m\u001b[0;34m\u001b[0m\u001b[0m\n\u001b[0;32m--> 117\u001b[0;31m         'left', show=False)\n\u001b[0m\u001b[1;32m    118\u001b[0m \u001b[0;34m\u001b[0m\u001b[0m\n\u001b[1;32m    119\u001b[0m     \u001b[0;31m# Set labels afterwards\u001b[0m\u001b[0;34m\u001b[0m\u001b[0;34m\u001b[0m\u001b[0m\n",
      "\u001b[0;32m<ipython-input-64-ade9487c3c18>\u001b[0m in \u001b[0;36mhistogram_set\u001b[0;34m(df, x_cols, y_sum_col, show)\u001b[0m\n\u001b[1;32m     42\u001b[0m             \u001b[0;31m#sum_df = pd.DataFrame(df.groupby(x).sum()[y_sum_col])\u001b[0m\u001b[0;34m\u001b[0m\u001b[0;34m\u001b[0m\u001b[0m\n\u001b[1;32m     43\u001b[0m             \u001b[0;31m#plt.bar(list(sum_df.index), list(sum_df[y_sum_col]))\u001b[0m\u001b[0;34m\u001b[0m\u001b[0;34m\u001b[0m\u001b[0m\n\u001b[0;32m---> 44\u001b[0;31m             \u001b[0mplt\u001b[0m\u001b[0;34m.\u001b[0m\u001b[0mhist\u001b[0m\u001b[0;34m(\u001b[0m\u001b[0mdf\u001b[0m\u001b[0;34m[\u001b[0m\u001b[0mx\u001b[0m\u001b[0;34m]\u001b[0m\u001b[0;34m)\u001b[0m\u001b[0;34m\u001b[0m\u001b[0m\n\u001b[0m\u001b[1;32m     45\u001b[0m             \u001b[0mplt\u001b[0m\u001b[0;34m.\u001b[0m\u001b[0mtitle\u001b[0m\u001b[0;34m(\u001b[0m\u001b[0;34m'Total {} by {}'\u001b[0m\u001b[0;34m.\u001b[0m\u001b[0mformat\u001b[0m\u001b[0;34m(\u001b[0m\u001b[0my_sum_col\u001b[0m\u001b[0;34m,\u001b[0m \u001b[0mx\u001b[0m\u001b[0;34m)\u001b[0m\u001b[0;34m)\u001b[0m\u001b[0;34m\u001b[0m\u001b[0m\n\u001b[1;32m     46\u001b[0m             \u001b[0mplt\u001b[0m\u001b[0;34m.\u001b[0m\u001b[0mxlabel\u001b[0m\u001b[0;34m(\u001b[0m\u001b[0mx\u001b[0m\u001b[0;34m)\u001b[0m\u001b[0;34m\u001b[0m\u001b[0m\n",
      "\u001b[0;32m/Library/Frameworks/Python.framework/Versions/3.6/lib/python3.6/site-packages/pandas/core/frame.py\u001b[0m in \u001b[0;36m__getitem__\u001b[0;34m(self, key)\u001b[0m\n\u001b[1;32m   1962\u001b[0m             \u001b[0;32mreturn\u001b[0m \u001b[0mself\u001b[0m\u001b[0;34m.\u001b[0m\u001b[0m_getitem_multilevel\u001b[0m\u001b[0;34m(\u001b[0m\u001b[0mkey\u001b[0m\u001b[0;34m)\u001b[0m\u001b[0;34m\u001b[0m\u001b[0m\n\u001b[1;32m   1963\u001b[0m         \u001b[0;32melse\u001b[0m\u001b[0;34m:\u001b[0m\u001b[0;34m\u001b[0m\u001b[0m\n\u001b[0;32m-> 1964\u001b[0;31m             \u001b[0;32mreturn\u001b[0m \u001b[0mself\u001b[0m\u001b[0;34m.\u001b[0m\u001b[0m_getitem_column\u001b[0m\u001b[0;34m(\u001b[0m\u001b[0mkey\u001b[0m\u001b[0;34m)\u001b[0m\u001b[0;34m\u001b[0m\u001b[0m\n\u001b[0m\u001b[1;32m   1965\u001b[0m \u001b[0;34m\u001b[0m\u001b[0m\n\u001b[1;32m   1966\u001b[0m     \u001b[0;32mdef\u001b[0m \u001b[0m_getitem_column\u001b[0m\u001b[0;34m(\u001b[0m\u001b[0mself\u001b[0m\u001b[0;34m,\u001b[0m \u001b[0mkey\u001b[0m\u001b[0;34m)\u001b[0m\u001b[0;34m:\u001b[0m\u001b[0;34m\u001b[0m\u001b[0m\n",
      "\u001b[0;32m/Library/Frameworks/Python.framework/Versions/3.6/lib/python3.6/site-packages/pandas/core/frame.py\u001b[0m in \u001b[0;36m_getitem_column\u001b[0;34m(self, key)\u001b[0m\n\u001b[1;32m   1969\u001b[0m         \u001b[0;31m# get column\u001b[0m\u001b[0;34m\u001b[0m\u001b[0;34m\u001b[0m\u001b[0m\n\u001b[1;32m   1970\u001b[0m         \u001b[0;32mif\u001b[0m \u001b[0mself\u001b[0m\u001b[0;34m.\u001b[0m\u001b[0mcolumns\u001b[0m\u001b[0;34m.\u001b[0m\u001b[0mis_unique\u001b[0m\u001b[0;34m:\u001b[0m\u001b[0;34m\u001b[0m\u001b[0m\n\u001b[0;32m-> 1971\u001b[0;31m             \u001b[0;32mreturn\u001b[0m \u001b[0mself\u001b[0m\u001b[0;34m.\u001b[0m\u001b[0m_get_item_cache\u001b[0m\u001b[0;34m(\u001b[0m\u001b[0mkey\u001b[0m\u001b[0;34m)\u001b[0m\u001b[0;34m\u001b[0m\u001b[0m\n\u001b[0m\u001b[1;32m   1972\u001b[0m \u001b[0;34m\u001b[0m\u001b[0m\n\u001b[1;32m   1973\u001b[0m         \u001b[0;31m# duplicate columns & possible reduce dimensionality\u001b[0m\u001b[0;34m\u001b[0m\u001b[0;34m\u001b[0m\u001b[0m\n",
      "\u001b[0;32m/Library/Frameworks/Python.framework/Versions/3.6/lib/python3.6/site-packages/pandas/core/generic.py\u001b[0m in \u001b[0;36m_get_item_cache\u001b[0;34m(self, item)\u001b[0m\n\u001b[1;32m   1643\u001b[0m         \u001b[0mres\u001b[0m \u001b[0;34m=\u001b[0m \u001b[0mcache\u001b[0m\u001b[0;34m.\u001b[0m\u001b[0mget\u001b[0m\u001b[0;34m(\u001b[0m\u001b[0mitem\u001b[0m\u001b[0;34m)\u001b[0m\u001b[0;34m\u001b[0m\u001b[0m\n\u001b[1;32m   1644\u001b[0m         \u001b[0;32mif\u001b[0m \u001b[0mres\u001b[0m \u001b[0;32mis\u001b[0m \u001b[0;32mNone\u001b[0m\u001b[0;34m:\u001b[0m\u001b[0;34m\u001b[0m\u001b[0m\n\u001b[0;32m-> 1645\u001b[0;31m             \u001b[0mvalues\u001b[0m \u001b[0;34m=\u001b[0m \u001b[0mself\u001b[0m\u001b[0;34m.\u001b[0m\u001b[0m_data\u001b[0m\u001b[0;34m.\u001b[0m\u001b[0mget\u001b[0m\u001b[0;34m(\u001b[0m\u001b[0mitem\u001b[0m\u001b[0;34m)\u001b[0m\u001b[0;34m\u001b[0m\u001b[0m\n\u001b[0m\u001b[1;32m   1646\u001b[0m             \u001b[0mres\u001b[0m \u001b[0;34m=\u001b[0m \u001b[0mself\u001b[0m\u001b[0;34m.\u001b[0m\u001b[0m_box_item_values\u001b[0m\u001b[0;34m(\u001b[0m\u001b[0mitem\u001b[0m\u001b[0;34m,\u001b[0m \u001b[0mvalues\u001b[0m\u001b[0;34m)\u001b[0m\u001b[0;34m\u001b[0m\u001b[0m\n\u001b[1;32m   1647\u001b[0m             \u001b[0mcache\u001b[0m\u001b[0;34m[\u001b[0m\u001b[0mitem\u001b[0m\u001b[0;34m]\u001b[0m \u001b[0;34m=\u001b[0m \u001b[0mres\u001b[0m\u001b[0;34m\u001b[0m\u001b[0m\n",
      "\u001b[0;32m/Library/Frameworks/Python.framework/Versions/3.6/lib/python3.6/site-packages/pandas/core/internals.py\u001b[0m in \u001b[0;36mget\u001b[0;34m(self, item, fastpath)\u001b[0m\n\u001b[1;32m   3588\u001b[0m \u001b[0;34m\u001b[0m\u001b[0m\n\u001b[1;32m   3589\u001b[0m             \u001b[0;32mif\u001b[0m \u001b[0;32mnot\u001b[0m \u001b[0misnull\u001b[0m\u001b[0;34m(\u001b[0m\u001b[0mitem\u001b[0m\u001b[0;34m)\u001b[0m\u001b[0;34m:\u001b[0m\u001b[0;34m\u001b[0m\u001b[0m\n\u001b[0;32m-> 3590\u001b[0;31m                 \u001b[0mloc\u001b[0m \u001b[0;34m=\u001b[0m \u001b[0mself\u001b[0m\u001b[0;34m.\u001b[0m\u001b[0mitems\u001b[0m\u001b[0;34m.\u001b[0m\u001b[0mget_loc\u001b[0m\u001b[0;34m(\u001b[0m\u001b[0mitem\u001b[0m\u001b[0;34m)\u001b[0m\u001b[0;34m\u001b[0m\u001b[0m\n\u001b[0m\u001b[1;32m   3591\u001b[0m             \u001b[0;32melse\u001b[0m\u001b[0;34m:\u001b[0m\u001b[0;34m\u001b[0m\u001b[0m\n\u001b[1;32m   3592\u001b[0m                 \u001b[0mindexer\u001b[0m \u001b[0;34m=\u001b[0m \u001b[0mnp\u001b[0m\u001b[0;34m.\u001b[0m\u001b[0marange\u001b[0m\u001b[0;34m(\u001b[0m\u001b[0mlen\u001b[0m\u001b[0;34m(\u001b[0m\u001b[0mself\u001b[0m\u001b[0;34m.\u001b[0m\u001b[0mitems\u001b[0m\u001b[0;34m)\u001b[0m\u001b[0;34m)\u001b[0m\u001b[0;34m[\u001b[0m\u001b[0misnull\u001b[0m\u001b[0;34m(\u001b[0m\u001b[0mself\u001b[0m\u001b[0;34m.\u001b[0m\u001b[0mitems\u001b[0m\u001b[0;34m)\u001b[0m\u001b[0;34m]\u001b[0m\u001b[0;34m\u001b[0m\u001b[0m\n",
      "\u001b[0;32m/Library/Frameworks/Python.framework/Versions/3.6/lib/python3.6/site-packages/pandas/core/indexes/base.py\u001b[0m in \u001b[0;36mget_loc\u001b[0;34m(self, key, method, tolerance)\u001b[0m\n\u001b[1;32m   2442\u001b[0m                 \u001b[0;32mreturn\u001b[0m \u001b[0mself\u001b[0m\u001b[0;34m.\u001b[0m\u001b[0m_engine\u001b[0m\u001b[0;34m.\u001b[0m\u001b[0mget_loc\u001b[0m\u001b[0;34m(\u001b[0m\u001b[0mkey\u001b[0m\u001b[0;34m)\u001b[0m\u001b[0;34m\u001b[0m\u001b[0m\n\u001b[1;32m   2443\u001b[0m             \u001b[0;32mexcept\u001b[0m \u001b[0mKeyError\u001b[0m\u001b[0;34m:\u001b[0m\u001b[0;34m\u001b[0m\u001b[0m\n\u001b[0;32m-> 2444\u001b[0;31m                 \u001b[0;32mreturn\u001b[0m \u001b[0mself\u001b[0m\u001b[0;34m.\u001b[0m\u001b[0m_engine\u001b[0m\u001b[0;34m.\u001b[0m\u001b[0mget_loc\u001b[0m\u001b[0;34m(\u001b[0m\u001b[0mself\u001b[0m\u001b[0;34m.\u001b[0m\u001b[0m_maybe_cast_indexer\u001b[0m\u001b[0;34m(\u001b[0m\u001b[0mkey\u001b[0m\u001b[0;34m)\u001b[0m\u001b[0;34m)\u001b[0m\u001b[0;34m\u001b[0m\u001b[0m\n\u001b[0m\u001b[1;32m   2445\u001b[0m \u001b[0;34m\u001b[0m\u001b[0m\n\u001b[1;32m   2446\u001b[0m         \u001b[0mindexer\u001b[0m \u001b[0;34m=\u001b[0m \u001b[0mself\u001b[0m\u001b[0;34m.\u001b[0m\u001b[0mget_indexer\u001b[0m\u001b[0;34m(\u001b[0m\u001b[0;34m[\u001b[0m\u001b[0mkey\u001b[0m\u001b[0;34m]\u001b[0m\u001b[0;34m,\u001b[0m \u001b[0mmethod\u001b[0m\u001b[0;34m=\u001b[0m\u001b[0mmethod\u001b[0m\u001b[0;34m,\u001b[0m \u001b[0mtolerance\u001b[0m\u001b[0;34m=\u001b[0m\u001b[0mtolerance\u001b[0m\u001b[0;34m)\u001b[0m\u001b[0;34m\u001b[0m\u001b[0m\n",
      "\u001b[0;32mpandas/_libs/index.pyx\u001b[0m in \u001b[0;36mpandas._libs.index.IndexEngine.get_loc (pandas/_libs/index.c:5280)\u001b[0;34m()\u001b[0m\n",
      "\u001b[0;32mpandas/_libs/index.pyx\u001b[0m in \u001b[0;36mpandas._libs.index.IndexEngine.get_loc (pandas/_libs/index.c:5126)\u001b[0;34m()\u001b[0m\n",
      "\u001b[0;32mpandas/_libs/hashtable_class_helper.pxi\u001b[0m in \u001b[0;36mpandas._libs.hashtable.PyObjectHashTable.get_item (pandas/_libs/hashtable.c:20523)\u001b[0;34m()\u001b[0m\n",
      "\u001b[0;32mpandas/_libs/hashtable_class_helper.pxi\u001b[0m in \u001b[0;36mpandas._libs.hashtable.PyObjectHashTable.get_item (pandas/_libs/hashtable.c:20477)\u001b[0;34m()\u001b[0m\n",
      "\u001b[0;31mKeyError\u001b[0m: 'satisfaction'"
     ]
    }
   ],
   "source": [
    "# Draw histograms to find leaver correlations with other factors\n",
    "data_vis2(hr_df, left_df)"
   ]
  },
  {
   "cell_type": "markdown",
   "metadata": {},
   "source": [
    "## Answer the question\n",
    "### Are there trends to employees leaving?\n",
    "Here we try to find patterns between whether an employee left and other information about the employee.\n",
    "Satisfaction Groups:\n",
    "  * There is a group of employees with the most projects (5-7) that are very unsatisfied, a group with a medium amount of project with high satisfaction (4 or 5), and a group with few projects (2) that were slightly satisfied\n",
    "  * Again, there are three groups, which structure seems to correlate with number of projects\n",
    "  * There are three groups, where employees with 3 years at the company are slightly satisfied, 4-5 years that are unsatisfied, and 5 to 6 years that are very satisfied. \n",
    "\n",
    "\n",
    "\n"
   ]
  },
  {
   "cell_type": "code",
   "execution_count": null,
   "metadata": {},
   "outputs": [],
   "source": [
    "# Plot scatter plots to find meaningful correlations\n",
    "data_vis3(left_df)"
   ]
  },
  {
   "cell_type": "markdown",
   "metadata": {},
   "source": [
    "## Statistical analysis on interesting data\n",
    "### Distribution and groupings\n",
    "### What does it mean? How does it deviate?"
   ]
  },
  {
   "cell_type": "markdown",
   "metadata": {},
   "source": [
    "## Conclusions and problems\n",
    "The clusters in the scatter plots seemed to be logically grouped based on multiple values, and so performing a clustering algorithm between multiple variables would be interesting to do on this data. Obviously, being simulated, this data set is too perfect and the clusters too obvious, but visualizing these contrived clusters helps me see the power of clustering. These correlations don't seem to be linearly related, in some cases, so clustering seems  a better approach.\n",
    "\n",
    "### Missing data\n",
    " *  We do not know what exactly what \"left\" means, whether this includes being laid off or fired.\n",
    " *  We do not know if a promotion in the last 5 years refers to the last 5 years of the employee's career at the company or 5 years from the date that this data was generated.\n",
    " * We do not know the time range of this data or when the employees left. It would be interesting to see if many employees left at the same time.\n",
    " * It would be interesting to see what teams or managers employees had and finding if it was related to an employee's likelihood to have left.\n",
    " * Factors about the company like stock value, profits, total size, benefits, etc. would be interesting to correlate to whether employees left or not\n",
    "\n",
    "## Further research and solutions\n",
    "I would like to see if the employees leaving was due to some categorical reason, such as primarily from a single department (or manager or team), having a work accident or not. It would also be interesting to find correlations between variables that are correlated to whether and employee left or not.\n",
    "\n",
    "Obviously, getting the missing data aforementioned would be useful. It would be nice to work on real-world data int he future as well. Also learning the statistical difference between causation and correlation would be nice in determining patterns in the data."
   ]
  },
  {
   "cell_type": "code",
   "execution_count": null,
   "metadata": {
    "collapsed": true
   },
   "outputs": [],
   "source": []
  }
 ],
 "metadata": {
  "kernelspec": {
   "display_name": "Python 3",
   "language": "python",
   "name": "python3"
  },
  "language_info": {
   "codemirror_mode": {
    "name": "ipython",
    "version": 3
   },
   "file_extension": ".py",
   "mimetype": "text/x-python",
   "name": "python",
   "nbconvert_exporter": "python",
   "pygments_lexer": "ipython3",
   "version": "3.6.1"
  }
 },
 "nbformat": 4,
 "nbformat_minor": 2
}
